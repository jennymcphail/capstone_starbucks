{
 "cells": [
  {
   "cell_type": "markdown",
   "metadata": {},
   "source": [
    "# Starbucks Capstone Challenge\n",
    "\n",
    "### Introduction\n",
    "\n",
    "This data set contains simulated data that mimics customer behavior on the Starbucks rewards mobile app. Once every few days, Starbucks sends out an offer to users of the mobile app. An offer can be merely an advertisement for a drink or an actual offer such as a discount or BOGO (buy one get one free). Some users might not receive any offer during certain weeks. \n",
    "\n",
    "Not all users receive the same offer, and that is the challenge to solve with this data set.\n",
    "\n",
    "Your task is to combine transaction, demographic and offer data to determine which demographic groups respond best to which offer type. This data set is a simplified version of the real Starbucks app because the underlying simulator only has one product whereas Starbucks actually sells dozens of products.\n",
    "\n",
    "Every offer has a validity period before the offer expires. As an example, a BOGO offer might be valid for only 5 days. You'll see in the data set that informational offers have a validity period even though these ads are merely providing information about a product; for example, if an informational offer has 7 days of validity, you can assume the customer is feeling the influence of the offer for 7 days after receiving the advertisement.\n",
    "\n",
    "You'll be given transactional data showing user purchases made on the app including the timestamp of purchase and the amount of money spent on a purchase. This transactional data also has a record for each offer that a user receives as well as a record for when a user actually views the offer. There are also records for when a user completes an offer. \n",
    "\n",
    "Keep in mind as well that someone using the app might make a purchase through the app without having received an offer or seen an offer.\n",
    "\n",
    "### Example\n",
    "\n",
    "To give an example, a user could receive a discount offer buy 10 dollars get 2 off on Monday. The offer is valid for 10 days from receipt. If the customer accumulates at least 10 dollars in purchases during the validity period, the customer completes the offer.\n",
    "\n",
    "However, there are a few things to watch out for in this data set. Customers do not opt into the offers that they receive; in other words, a user can receive an offer, never actually view the offer, and still complete the offer. For example, a user might receive the \"buy 10 dollars get 2 dollars off offer\", but the user never opens the offer during the 10 day validity period. The customer spends 15 dollars during those ten days. There will be an offer completion record in the data set; however, the customer was not influenced by the offer because the customer never viewed the offer.\n",
    "\n",
    "### Cleaning\n",
    "\n",
    "This makes data cleaning especially important and tricky.\n",
    "\n",
    "You'll also want to take into account that some demographic groups will make purchases even if they don't receive an offer. From a business perspective, if a customer is going to make a 10 dollar purchase without an offer anyway, you wouldn't want to send a buy 10 dollars get 2 dollars off offer. You'll want to try to assess what a certain demographic group will buy when not receiving any offers.\n",
    "\n",
    "### Final Advice\n",
    "\n",
    "Because this is a capstone project, you are free to analyze the data any way you see fit. For example, you could build a machine learning model that predicts how much someone will spend based on demographics and offer type. Or you could build a model that predicts whether or not someone will respond to an offer. Or, you don't need to build a machine learning model at all. You could develop a set of heuristics that determine what offer you should send to each customer (i.e., 75 percent of women customers who were 35 years old responded to offer A vs 40 percent from the same demographic to offer B, so send offer A)."
   ]
  },
  {
   "cell_type": "markdown",
   "metadata": {},
   "source": [
    "# Data Sets\n",
    "\n",
    "The data is contained in three files:\n",
    "\n",
    "* portfolio.json - containing offer ids and meta data about each offer (duration, type, etc.)\n",
    "* profile.json - demographic data for each customer\n",
    "* transcript.json - records for transactions, offers received, offers viewed, and offers completed\n",
    "\n",
    "Here is the schema and explanation of each variable in the files:\n",
    "\n",
    "**portfolio.json**\n",
    "* id (string) - offer id\n",
    "* offer_type (string) - type of offer ie BOGO, discount, informational\n",
    "* difficulty (int) - minimum required spend to complete an offer\n",
    "* reward (int) - reward given for completing an offer\n",
    "* duration (int) - time for offer to be open, in days\n",
    "* channels (list of strings)\n",
    "\n",
    "**profile.json**\n",
    "* age (int) - age of the customer \n",
    "* became_member_on (int) - date when customer created an app account\n",
    "* gender (str) - gender of the customer (note some entries contain 'O' for other rather than M or F)\n",
    "* id (str) - customer id\n",
    "* income (float) - customer's income\n",
    "\n",
    "**transcript.json**\n",
    "* event (str) - record description (ie transaction, offer received, offer viewed, etc.)\n",
    "* person (str) - customer id\n",
    "* time (int) - time in hours since start of test. The data begins at time t=0\n",
    "* value - (dict of strings) - either an offer id or transaction amount depending on the record\n",
    "\n",
    "**Note:** If you are using the workspace, you will need to go to the terminal and run the command `conda update pandas` before reading in the files. This is because the version of pandas in the workspace cannot read in the transcript.json file correctly, but the newest version of pandas can. You can access the termnal from the orange icon in the top left of this notebook.  \n",
    "\n",
    "You can see how to access the terminal and how the install works using the two images below.  First you need to access the terminal:\n",
    "\n",
    "<img src=\"pic1.png\"/>\n",
    "\n",
    "Then you will want to run the above command:\n",
    "\n",
    "<img src=\"pic2.png\"/>\n",
    "\n",
    "Finally, when you enter back into the notebook (use the jupyter icon again), you should be able to run the below cell without any errors."
   ]
  },
  {
   "cell_type": "markdown",
   "metadata": {},
   "source": [
    "### Import the packages"
   ]
  },
  {
   "cell_type": "code",
   "execution_count": 1,
   "metadata": {},
   "outputs": [],
   "source": [
    "import pandas as pd\n",
    "import numpy as np\n",
    "import math\n",
    "import json\n",
    "% matplotlib inline\n",
    "from matplotlib import pyplot as plt\n",
    "from sklearn.linear_model import LogisticRegression\n",
    "from sklearn.metrics import classification_report, confusion_matrix\n",
    "from sklearn.model_selection import train_test_split\n",
    "from sklearn.tree import DecisionTreeClassifier\n",
    "from sklearn.pipeline import Pipeline\n",
    "from sklearn.preprocessing import StandardScaler\n",
    "from sklearn.metrics import classification_report\n",
    "from sklearn.model_selection import GridSearchCV"
   ]
  },
  {
   "cell_type": "markdown",
   "metadata": {},
   "source": [
    "### Read in the json files"
   ]
  },
  {
   "cell_type": "code",
   "execution_count": 2,
   "metadata": {},
   "outputs": [],
   "source": [
    "portfolio = pd.read_json('data/portfolio.json', orient='records', lines=True)\n",
    "profile = pd.read_json('data/profile.json', orient='records', lines=True)\n",
    "transcript = pd.read_json('data/transcript.json', orient='records', lines=True)"
   ]
  },
  {
   "cell_type": "markdown",
   "metadata": {},
   "source": [
    "### Explore the Data"
   ]
  },
  {
   "cell_type": "code",
   "execution_count": 3,
   "metadata": {},
   "outputs": [
    {
     "data": {
      "text/html": [
       "<div>\n",
       "<style scoped>\n",
       "    .dataframe tbody tr th:only-of-type {\n",
       "        vertical-align: middle;\n",
       "    }\n",
       "\n",
       "    .dataframe tbody tr th {\n",
       "        vertical-align: top;\n",
       "    }\n",
       "\n",
       "    .dataframe thead th {\n",
       "        text-align: right;\n",
       "    }\n",
       "</style>\n",
       "<table border=\"1\" class=\"dataframe\">\n",
       "  <thead>\n",
       "    <tr style=\"text-align: right;\">\n",
       "      <th></th>\n",
       "      <th>channels</th>\n",
       "      <th>difficulty</th>\n",
       "      <th>duration</th>\n",
       "      <th>id</th>\n",
       "      <th>offer_type</th>\n",
       "      <th>reward</th>\n",
       "    </tr>\n",
       "  </thead>\n",
       "  <tbody>\n",
       "    <tr>\n",
       "      <th>0</th>\n",
       "      <td>[email, mobile, social]</td>\n",
       "      <td>10</td>\n",
       "      <td>7</td>\n",
       "      <td>ae264e3637204a6fb9bb56bc8210ddfd</td>\n",
       "      <td>bogo</td>\n",
       "      <td>10</td>\n",
       "    </tr>\n",
       "    <tr>\n",
       "      <th>1</th>\n",
       "      <td>[web, email, mobile, social]</td>\n",
       "      <td>10</td>\n",
       "      <td>5</td>\n",
       "      <td>4d5c57ea9a6940dd891ad53e9dbe8da0</td>\n",
       "      <td>bogo</td>\n",
       "      <td>10</td>\n",
       "    </tr>\n",
       "    <tr>\n",
       "      <th>2</th>\n",
       "      <td>[web, email, mobile]</td>\n",
       "      <td>0</td>\n",
       "      <td>4</td>\n",
       "      <td>3f207df678b143eea3cee63160fa8bed</td>\n",
       "      <td>informational</td>\n",
       "      <td>0</td>\n",
       "    </tr>\n",
       "    <tr>\n",
       "      <th>3</th>\n",
       "      <td>[web, email, mobile]</td>\n",
       "      <td>5</td>\n",
       "      <td>7</td>\n",
       "      <td>9b98b8c7a33c4b65b9aebfe6a799e6d9</td>\n",
       "      <td>bogo</td>\n",
       "      <td>5</td>\n",
       "    </tr>\n",
       "    <tr>\n",
       "      <th>4</th>\n",
       "      <td>[web, email]</td>\n",
       "      <td>20</td>\n",
       "      <td>10</td>\n",
       "      <td>0b1e1539f2cc45b7b9fa7c272da2e1d7</td>\n",
       "      <td>discount</td>\n",
       "      <td>5</td>\n",
       "    </tr>\n",
       "  </tbody>\n",
       "</table>\n",
       "</div>"
      ],
      "text/plain": [
       "                       channels  difficulty  duration  \\\n",
       "0       [email, mobile, social]          10         7   \n",
       "1  [web, email, mobile, social]          10         5   \n",
       "2          [web, email, mobile]           0         4   \n",
       "3          [web, email, mobile]           5         7   \n",
       "4                  [web, email]          20        10   \n",
       "\n",
       "                                 id     offer_type  reward  \n",
       "0  ae264e3637204a6fb9bb56bc8210ddfd           bogo      10  \n",
       "1  4d5c57ea9a6940dd891ad53e9dbe8da0           bogo      10  \n",
       "2  3f207df678b143eea3cee63160fa8bed  informational       0  \n",
       "3  9b98b8c7a33c4b65b9aebfe6a799e6d9           bogo       5  \n",
       "4  0b1e1539f2cc45b7b9fa7c272da2e1d7       discount       5  "
      ]
     },
     "execution_count": 3,
     "metadata": {},
     "output_type": "execute_result"
    }
   ],
   "source": [
    "portfolio.head()"
   ]
  },
  {
   "cell_type": "code",
   "execution_count": 4,
   "metadata": {},
   "outputs": [
    {
     "data": {
      "text/html": [
       "<div>\n",
       "<style scoped>\n",
       "    .dataframe tbody tr th:only-of-type {\n",
       "        vertical-align: middle;\n",
       "    }\n",
       "\n",
       "    .dataframe tbody tr th {\n",
       "        vertical-align: top;\n",
       "    }\n",
       "\n",
       "    .dataframe thead th {\n",
       "        text-align: right;\n",
       "    }\n",
       "</style>\n",
       "<table border=\"1\" class=\"dataframe\">\n",
       "  <thead>\n",
       "    <tr style=\"text-align: right;\">\n",
       "      <th></th>\n",
       "      <th>age</th>\n",
       "      <th>became_member_on</th>\n",
       "      <th>gender</th>\n",
       "      <th>id</th>\n",
       "      <th>income</th>\n",
       "    </tr>\n",
       "  </thead>\n",
       "  <tbody>\n",
       "    <tr>\n",
       "      <th>0</th>\n",
       "      <td>118</td>\n",
       "      <td>20170212</td>\n",
       "      <td>None</td>\n",
       "      <td>68be06ca386d4c31939f3a4f0e3dd783</td>\n",
       "      <td>NaN</td>\n",
       "    </tr>\n",
       "    <tr>\n",
       "      <th>1</th>\n",
       "      <td>55</td>\n",
       "      <td>20170715</td>\n",
       "      <td>F</td>\n",
       "      <td>0610b486422d4921ae7d2bf64640c50b</td>\n",
       "      <td>112000.0</td>\n",
       "    </tr>\n",
       "    <tr>\n",
       "      <th>2</th>\n",
       "      <td>118</td>\n",
       "      <td>20180712</td>\n",
       "      <td>None</td>\n",
       "      <td>38fe809add3b4fcf9315a9694bb96ff5</td>\n",
       "      <td>NaN</td>\n",
       "    </tr>\n",
       "    <tr>\n",
       "      <th>3</th>\n",
       "      <td>75</td>\n",
       "      <td>20170509</td>\n",
       "      <td>F</td>\n",
       "      <td>78afa995795e4d85b5d9ceeca43f5fef</td>\n",
       "      <td>100000.0</td>\n",
       "    </tr>\n",
       "    <tr>\n",
       "      <th>4</th>\n",
       "      <td>118</td>\n",
       "      <td>20170804</td>\n",
       "      <td>None</td>\n",
       "      <td>a03223e636434f42ac4c3df47e8bac43</td>\n",
       "      <td>NaN</td>\n",
       "    </tr>\n",
       "  </tbody>\n",
       "</table>\n",
       "</div>"
      ],
      "text/plain": [
       "   age  became_member_on gender                                id    income\n",
       "0  118          20170212   None  68be06ca386d4c31939f3a4f0e3dd783       NaN\n",
       "1   55          20170715      F  0610b486422d4921ae7d2bf64640c50b  112000.0\n",
       "2  118          20180712   None  38fe809add3b4fcf9315a9694bb96ff5       NaN\n",
       "3   75          20170509      F  78afa995795e4d85b5d9ceeca43f5fef  100000.0\n",
       "4  118          20170804   None  a03223e636434f42ac4c3df47e8bac43       NaN"
      ]
     },
     "execution_count": 4,
     "metadata": {},
     "output_type": "execute_result"
    }
   ],
   "source": [
    "profile.head()"
   ]
  },
  {
   "cell_type": "code",
   "execution_count": 5,
   "metadata": {},
   "outputs": [
    {
     "data": {
      "text/html": [
       "<div>\n",
       "<style scoped>\n",
       "    .dataframe tbody tr th:only-of-type {\n",
       "        vertical-align: middle;\n",
       "    }\n",
       "\n",
       "    .dataframe tbody tr th {\n",
       "        vertical-align: top;\n",
       "    }\n",
       "\n",
       "    .dataframe thead th {\n",
       "        text-align: right;\n",
       "    }\n",
       "</style>\n",
       "<table border=\"1\" class=\"dataframe\">\n",
       "  <thead>\n",
       "    <tr style=\"text-align: right;\">\n",
       "      <th></th>\n",
       "      <th>event</th>\n",
       "      <th>person</th>\n",
       "      <th>time</th>\n",
       "      <th>value</th>\n",
       "    </tr>\n",
       "  </thead>\n",
       "  <tbody>\n",
       "    <tr>\n",
       "      <th>0</th>\n",
       "      <td>offer received</td>\n",
       "      <td>78afa995795e4d85b5d9ceeca43f5fef</td>\n",
       "      <td>0</td>\n",
       "      <td>{'offer id': '9b98b8c7a33c4b65b9aebfe6a799e6d9'}</td>\n",
       "    </tr>\n",
       "    <tr>\n",
       "      <th>1</th>\n",
       "      <td>offer received</td>\n",
       "      <td>a03223e636434f42ac4c3df47e8bac43</td>\n",
       "      <td>0</td>\n",
       "      <td>{'offer id': '0b1e1539f2cc45b7b9fa7c272da2e1d7'}</td>\n",
       "    </tr>\n",
       "    <tr>\n",
       "      <th>2</th>\n",
       "      <td>offer received</td>\n",
       "      <td>e2127556f4f64592b11af22de27a7932</td>\n",
       "      <td>0</td>\n",
       "      <td>{'offer id': '2906b810c7d4411798c6938adc9daaa5'}</td>\n",
       "    </tr>\n",
       "    <tr>\n",
       "      <th>3</th>\n",
       "      <td>offer received</td>\n",
       "      <td>8ec6ce2a7e7949b1bf142def7d0e0586</td>\n",
       "      <td>0</td>\n",
       "      <td>{'offer id': 'fafdcd668e3743c1bb461111dcafc2a4'}</td>\n",
       "    </tr>\n",
       "    <tr>\n",
       "      <th>4</th>\n",
       "      <td>offer received</td>\n",
       "      <td>68617ca6246f4fbc85e91a2a49552598</td>\n",
       "      <td>0</td>\n",
       "      <td>{'offer id': '4d5c57ea9a6940dd891ad53e9dbe8da0'}</td>\n",
       "    </tr>\n",
       "  </tbody>\n",
       "</table>\n",
       "</div>"
      ],
      "text/plain": [
       "            event                            person  time  \\\n",
       "0  offer received  78afa995795e4d85b5d9ceeca43f5fef     0   \n",
       "1  offer received  a03223e636434f42ac4c3df47e8bac43     0   \n",
       "2  offer received  e2127556f4f64592b11af22de27a7932     0   \n",
       "3  offer received  8ec6ce2a7e7949b1bf142def7d0e0586     0   \n",
       "4  offer received  68617ca6246f4fbc85e91a2a49552598     0   \n",
       "\n",
       "                                              value  \n",
       "0  {'offer id': '9b98b8c7a33c4b65b9aebfe6a799e6d9'}  \n",
       "1  {'offer id': '0b1e1539f2cc45b7b9fa7c272da2e1d7'}  \n",
       "2  {'offer id': '2906b810c7d4411798c6938adc9daaa5'}  \n",
       "3  {'offer id': 'fafdcd668e3743c1bb461111dcafc2a4'}  \n",
       "4  {'offer id': '4d5c57ea9a6940dd891ad53e9dbe8da0'}  "
      ]
     },
     "execution_count": 5,
     "metadata": {},
     "output_type": "execute_result"
    }
   ],
   "source": [
    "transcript.head()"
   ]
  },
  {
   "cell_type": "code",
   "execution_count": 6,
   "metadata": {},
   "outputs": [
    {
     "name": "stdout",
     "output_type": "stream",
     "text": [
      "(10, 6)\n",
      "(17000, 5)\n",
      "(306534, 4)\n"
     ]
    }
   ],
   "source": [
    "print(portfolio.shape)\n",
    "print(profile.shape)\n",
    "print(transcript.shape)"
   ]
  },
  {
   "cell_type": "markdown",
   "metadata": {},
   "source": [
    "The transcript data shows activity by customers - what type of events and how many?"
   ]
  },
  {
   "cell_type": "code",
   "execution_count": 7,
   "metadata": {},
   "outputs": [
    {
     "data": {
      "text/plain": [
       "array(['offer received', 'offer viewed', 'transaction', 'offer completed'], dtype=object)"
      ]
     },
     "execution_count": 7,
     "metadata": {},
     "output_type": "execute_result"
    }
   ],
   "source": [
    "transcript['event'].unique()"
   ]
  },
  {
   "cell_type": "markdown",
   "metadata": {},
   "source": [
    "Transaction is purchases, the rest relate to the offers that the customers received and how they reacted."
   ]
  },
  {
   "cell_type": "code",
   "execution_count": 8,
   "metadata": {},
   "outputs": [
    {
     "data": {
      "text/html": [
       "<div>\n",
       "<style scoped>\n",
       "    .dataframe tbody tr th:only-of-type {\n",
       "        vertical-align: middle;\n",
       "    }\n",
       "\n",
       "    .dataframe tbody tr th {\n",
       "        vertical-align: top;\n",
       "    }\n",
       "\n",
       "    .dataframe thead th {\n",
       "        text-align: right;\n",
       "    }\n",
       "</style>\n",
       "<table border=\"1\" class=\"dataframe\">\n",
       "  <thead>\n",
       "    <tr style=\"text-align: right;\">\n",
       "      <th></th>\n",
       "      <th>person</th>\n",
       "      <th>time</th>\n",
       "      <th>value</th>\n",
       "    </tr>\n",
       "    <tr>\n",
       "      <th>event</th>\n",
       "      <th></th>\n",
       "      <th></th>\n",
       "      <th></th>\n",
       "    </tr>\n",
       "  </thead>\n",
       "  <tbody>\n",
       "    <tr>\n",
       "      <th>offer completed</th>\n",
       "      <td>33579</td>\n",
       "      <td>33579</td>\n",
       "      <td>33579</td>\n",
       "    </tr>\n",
       "    <tr>\n",
       "      <th>offer received</th>\n",
       "      <td>76277</td>\n",
       "      <td>76277</td>\n",
       "      <td>76277</td>\n",
       "    </tr>\n",
       "    <tr>\n",
       "      <th>offer viewed</th>\n",
       "      <td>57725</td>\n",
       "      <td>57725</td>\n",
       "      <td>57725</td>\n",
       "    </tr>\n",
       "    <tr>\n",
       "      <th>transaction</th>\n",
       "      <td>138953</td>\n",
       "      <td>138953</td>\n",
       "      <td>138953</td>\n",
       "    </tr>\n",
       "  </tbody>\n",
       "</table>\n",
       "</div>"
      ],
      "text/plain": [
       "                 person    time   value\n",
       "event                                  \n",
       "offer completed   33579   33579   33579\n",
       "offer received    76277   76277   76277\n",
       "offer viewed      57725   57725   57725\n",
       "transaction      138953  138953  138953"
      ]
     },
     "execution_count": 8,
     "metadata": {},
     "output_type": "execute_result"
    }
   ],
   "source": [
    "transcript.groupby('event').count()"
   ]
  },
  {
   "cell_type": "markdown",
   "metadata": {},
   "source": [
    "### Analysis Ideas\n",
    "- Make some funnels for offers - to see if viewing the offer leads to increased likelihood of completing it\n",
    "- Do the funnels vary by offer - if so, what drives it?\n",
    "- Would a predictive model help us target offers better?"
   ]
  },
  {
   "cell_type": "code",
   "execution_count": 9,
   "metadata": {},
   "outputs": [
    {
     "data": {
      "text/plain": [
       "10"
      ]
     },
     "execution_count": 9,
     "metadata": {},
     "output_type": "execute_result"
    }
   ],
   "source": [
    "portfolio['id'].nunique() # 10 offers"
   ]
  },
  {
   "cell_type": "code",
   "execution_count": 10,
   "metadata": {},
   "outputs": [
    {
     "data": {
      "text/plain": [
       "0    {'offer id': '9b98b8c7a33c4b65b9aebfe6a799e6d9'}\n",
       "1    {'offer id': '0b1e1539f2cc45b7b9fa7c272da2e1d7'}\n",
       "2    {'offer id': '2906b810c7d4411798c6938adc9daaa5'}\n",
       "3    {'offer id': 'fafdcd668e3743c1bb461111dcafc2a4'}\n",
       "4    {'offer id': '4d5c57ea9a6940dd891ad53e9dbe8da0'}\n",
       "Name: value, dtype: object"
      ]
     },
     "execution_count": 10,
     "metadata": {},
     "output_type": "execute_result"
    }
   ],
   "source": [
    "transcript['value'].head() # will need to tidy this up for joining, split on colon"
   ]
  },
  {
   "cell_type": "markdown",
   "metadata": {},
   "source": [
    "### Data Engineering\n",
    "Let's convert the value column from a dictionary into separate columns"
   ]
  },
  {
   "cell_type": "code",
   "execution_count": 11,
   "metadata": {},
   "outputs": [],
   "source": [
    "# separate out, drop original column\n",
    "df_transcript = pd.concat([transcript.drop(['value'], axis=1), transcript['value'].apply(pd.Series)], axis=1) \n",
    "# coalesce two differently spelled offer id columns\n",
    "df_transcript['offerID'] = df_transcript['offer id'].combine_first(df_transcript['offer_id']) \n",
    "# drop extra columns\n",
    "df_transcript = df_transcript.drop(['offer id','offer_id'],axis=1) "
   ]
  },
  {
   "cell_type": "code",
   "execution_count": 12,
   "metadata": {},
   "outputs": [
    {
     "data": {
      "text/plain": [
       "3.7228235294117646"
      ]
     },
     "execution_count": 12,
     "metadata": {},
     "output_type": "execute_result"
    }
   ],
   "source": [
    "df_transcript.groupby('person').offerID.nunique().mean() # on average, each person received 3.7 offers"
   ]
  },
  {
   "cell_type": "markdown",
   "metadata": {},
   "source": [
    "Let's visualise how many people received 1,2,3 etc. offers"
   ]
  },
  {
   "cell_type": "code",
   "execution_count": 13,
   "metadata": {},
   "outputs": [
    {
     "data": {
      "image/png": "[encoded data removed]",
      "text/plain": [
       "<matplotlib.figure.Figure at 0x7f85a48fd5c0>"
      ]
     },
     "metadata": {},
     "output_type": "display_data"
    }
   ],
   "source": [
    "df_group = pd.DataFrame(df_transcript.groupby('person').offerID.nunique())\n",
    "offersperperson = pd.DataFrame(df_group['offerID'].value_counts(sort=False))\n",
    "offersperperson.reset_index(drop=False, inplace=True)\n",
    "\n",
    "plt.rcParams['font.size'] = 12\n",
    "x = offersperperson['offerID']\n",
    "labels = offersperperson['index']\n",
    "fig, ax = plt.subplots(figsize=(12, 12))\n",
    "ax.pie(x, labels=labels, autopct='%.1f%%',wedgeprops={'linewidth': 3.0, 'edgecolor': 'white'},)\n",
    "ax.set_title('Offers Per Person')\n",
    "plt.tight_layout()"
   ]
  },
  {
   "cell_type": "markdown",
   "metadata": {},
   "source": [
    "And see how many people participated in each offer:"
   ]
  },
  {
   "cell_type": "code",
   "execution_count": 14,
   "metadata": {},
   "outputs": [
    {
     "data": {
      "text/plain": [
       "offerID\n",
       "0b1e1539f2cc45b7b9fa7c272da2e1d7    6374\n",
       "2298d6c36e964ae4a3e7e9706d1fb8c2    6325\n",
       "2906b810c7d4411798c6938adc9daaa5    6285\n",
       "3f207df678b143eea3cee63160fa8bed    6331\n",
       "4d5c57ea9a6940dd891ad53e9dbe8da0    6330\n",
       "5a8bc65990b245e5a138643cd4eb9837    6320\n",
       "9b98b8c7a33c4b65b9aebfe6a799e6d9    6355\n",
       "ae264e3637204a6fb9bb56bc8210ddfd    6374\n",
       "f19421c1d4aa40978ebb69ca19b0e20d    6262\n",
       "fafdcd668e3743c1bb461111dcafc2a4    6332\n",
       "Name: person, dtype: int64"
      ]
     },
     "execution_count": 14,
     "metadata": {},
     "output_type": "execute_result"
    }
   ],
   "source": [
    "df_transcript.groupby('offerID').person.nunique() "
   ]
  },
  {
   "cell_type": "markdown",
   "metadata": {},
   "source": [
    "Roughly similar volumes of customer have particpated in each offer"
   ]
  },
  {
   "cell_type": "markdown",
   "metadata": {},
   "source": [
    "What are the potential journeys that each customer could have when they receive an offer?\n",
    "- received, viewed, completed\n",
    "- received, viewed, not completed\n",
    "- received, not viewed, completed\n",
    "- received, not viewed, not completed\n",
    "\n",
    "Let's visualise how many people have completed each journey funnel:"
   ]
  },
  {
   "cell_type": "code",
   "execution_count": 15,
   "metadata": {},
   "outputs": [
    {
     "data": {
      "text/plain": [
       "<matplotlib.axes._subplots.AxesSubplot at 0x7f85a756bac8>"
      ]
     },
     "execution_count": 15,
     "metadata": {},
     "output_type": "execute_result"
    },
    {
     "data": {
      "image/png": "[encoded data removed]",
      "text/plain": [
       "<matplotlib.figure.Figure at 0x7f85aa2d9c18>"
      ]
     },
     "metadata": {
      "needs_background": "light"
     },
     "output_type": "display_data"
    }
   ],
   "source": [
    "values = df_transcript['event'].unique()\n",
    "for v in values:\n",
    "    df_transcript[v]= [1 if x==v else 0 for x in df_transcript['event']]\n",
    "df_journey = df_transcript.drop(['event','time','amount','reward','transaction'],axis=1)\n",
    "df_journey = df_journey.groupby(['person','offerID']).max()\n",
    "df_journey.reset_index(drop=False, inplace=True)\n",
    "df_journey['journey']= df_journey['offer received'].map(str)+df_journey['offer viewed'].map(str)+df_journey['offer completed'].map(str)\n",
    "df_journey = df_journey.drop(['offer received','offer viewed','offer completed'],axis=1)\n",
    "\n",
    "df_journey['journey'].value_counts().plot(kind='bar')"
   ]
  },
  {
   "cell_type": "markdown",
   "metadata": {},
   "source": [
    "### In-depth Analysis\n",
    "The top level picture isn't very helpful, let's create a process which allows us to visualise the journey funnels grouped by offer and by each feature of the offers (e.g. channel, difficulty etc.). This should tell us more."
   ]
  },
  {
   "cell_type": "code",
   "execution_count": 16,
   "metadata": {},
   "outputs": [
    {
     "data": {
      "image/png": "[encoded data removed]",
      "text/plain": [
       "<matplotlib.figure.Figure at 0x7f85a7578b00>"
      ]
     },
     "metadata": {
      "needs_background": "light"
     },
     "output_type": "display_data"
    },
    {
     "data": {
      "image/png": "[encoded data removed]",
      "text/plain": [
       "<matplotlib.figure.Figure at 0x7f85a76b2470>"
      ]
     },
     "metadata": {
      "needs_background": "light"
     },
     "output_type": "display_data"
    },
    {
     "data": {
      "image/png": "[encoded data removed]",
      "text/plain": [
       "<matplotlib.figure.Figure at 0x7f85a7732e80>"
      ]
     },
     "metadata": {
      "needs_background": "light"
     },
     "output_type": "display_data"
    },
    {
     "data": {
      "image/png": "[encoded data removed]",
      "text/plain": [
       "<matplotlib.figure.Figure at 0x7f85a779a320>"
      ]
     },
     "metadata": {
      "needs_background": "light"
     },
     "output_type": "display_data"
    },
    {
     "data": {
      "image/png": "[encoded data removed]",
      "text/plain": [
       "<matplotlib.figure.Figure at 0x7f85a782c860>"
      ]
     },
     "metadata": {
      "needs_background": "light"
     },
     "output_type": "display_data"
    },
    {
     "data": {
      "image/png": "[encoded data removed]",
      "text/plain": [
       "<matplotlib.figure.Figure at 0x7f85a78b25c0>"
      ]
     },
     "metadata": {
      "needs_background": "light"
     },
     "output_type": "display_data"
    }
   ],
   "source": [
    "journeys = ['110','111','100','101']\n",
    "journey_names = ['Received,Viewed,Not Completed','Received,Viewed,Completed','Received,Not Viewed, Not Completed','Received,Not Viewed,Completed']\n",
    "offers = portfolio['id'].unique()\n",
    "\n",
    "# collect the journey metrics for each offer\n",
    "offer_journeys=[]\n",
    "for o in offers:\n",
    "    df_offer = df_journey[df_journey['offerID']==o]\n",
    "    journey_count=[]\n",
    "    for j in journeys:\n",
    "        count = 0\n",
    "        for x in df_offer['journey']:\n",
    "            if x ==j:\n",
    "                count+=1\n",
    "        journey_count.append(count)\n",
    "    offer_journeys.append(journey_count)\n",
    "    \n",
    "# combined offer journeys with offer info in one data frame\n",
    "journey_df=pd.DataFrame(offer_journeys, columns=journey_names)#convert list of lists to df\n",
    "journey_df['offer_id']=offers #add offer id column\n",
    "cols = journey_df.columns.tolist() \n",
    "cols = cols[-1:] + cols[:-1]\n",
    "journey_df = journey_df[cols] # re-order columns so ID is first\n",
    "merged_df=journey_df.merge(portfolio, left_on='offer_id',right_on='id',how='inner')\n",
    "merged_df=merged_df.drop('id',axis=1)\n",
    "merged_df['channels_str'] = list(map(str, merged_df['channels']))\n",
    "\n",
    "# 1 stacked bar overall by offer\n",
    "# 1 by channels, 1 by difficulty, 1 by duration, 1 by offer type, 1 by reward\n",
    "# iterate through to create multiple stacked bars\n",
    "metric_cols = ['offer_id','channels_str','difficulty','duration','offer_type','reward']\n",
    "for m in metric_cols:\n",
    "    select_cols = []\n",
    "    select_cols = journey_names[:]\n",
    "    select_cols.append(m)\n",
    "    select_cols = select_cols[-1:] + select_cols[:-1]\n",
    "    merged_df[select_cols].groupby(m).sum().plot(kind='bar', stacked=True, figsize=(10,10))\n",
    "    plt.legend(bbox_to_anchor=(1.05, 1), loc='upper left', borderaxespad=0, title='Journey')\n",
    "    plt.title('Journey by '+m, loc='center')"
   ]
  },
  {
   "cell_type": "markdown",
   "metadata": {},
   "source": [
    "From this we can see the following:\n",
    "- Each offer has a different journey profile - for example the fourth and sixth offers have not been completed at all\n",
    "- If you look at \"offer type\", this explains it - they are \"informational\" so there is no expected action to complete\n",
    "- Looking at channel suggests that using social media seems to increase the likelihood of people viewing offers\n",
    "\n",
    "Looking at each factor in isolation is interesting but won't be the full picture - an offer's attractiveness will be a combination of its visibility, reward value, ease of completion and time available to complete.\n",
    "\n",
    "And individual customers will be more or less likely to complete based on their own circumstances too."
   ]
  },
  {
   "cell_type": "markdown",
   "metadata": {},
   "source": [
    "### Predictive Modelling"
   ]
  },
  {
   "cell_type": "markdown",
   "metadata": {},
   "source": [
    "A model can take into consideration all the factors when trying to predict whether a customer will respond to a particular campaign."
   ]
  },
  {
   "cell_type": "markdown",
   "metadata": {},
   "source": [
    "### More Data Engineering\n",
    "\n",
    "Let's merge the transcript data with the customer profile data to create a dataset with one row per offer per person. We can get rid of columns we don't need and only keep the rows relating to offers, not transactions."
   ]
  },
  {
   "cell_type": "code",
   "execution_count": 17,
   "metadata": {},
   "outputs": [],
   "source": [
    "transcript_profile_df = df_transcript.merge(profile, left_on='person', right_on='id', how = 'inner')# merge transactions with customer profile\n",
    "transcript_profile_df = transcript_profile_df.drop(['event','amount','transaction','id','time','reward'],axis=1)# drop unnecessary columns\n",
    "transcript_profile_df = transcript_profile_df[transcript_profile_df['offerID'].notnull()]# only keep rows relating to offers\n",
    "transcript_profile_grp = transcript_profile_df.groupby(['person','offerID','age','became_member_on','gender','income'])['offer received','offer viewed','offer completed'].max().reset_index()"
   ]
  },
  {
   "cell_type": "markdown",
   "metadata": {},
   "source": [
    "I also want to quickly check if each offer was received by similar groups of customers, to check there are no biases which might impact the model."
   ]
  },
  {
   "cell_type": "code",
   "execution_count": 19,
   "metadata": {},
   "outputs": [
    {
     "data": {
      "text/html": [
       "<div>\n",
       "<style scoped>\n",
       "    .dataframe tbody tr th:only-of-type {\n",
       "        vertical-align: middle;\n",
       "    }\n",
       "\n",
       "    .dataframe tbody tr th {\n",
       "        vertical-align: top;\n",
       "    }\n",
       "\n",
       "    .dataframe thead tr th {\n",
       "        text-align: left;\n",
       "    }\n",
       "\n",
       "    .dataframe thead tr:last-of-type th {\n",
       "        text-align: right;\n",
       "    }\n",
       "</style>\n",
       "<table border=\"1\" class=\"dataframe\">\n",
       "  <thead>\n",
       "    <tr>\n",
       "      <th></th>\n",
       "      <th colspan=\"4\" halign=\"left\">age</th>\n",
       "    </tr>\n",
       "    <tr>\n",
       "      <th></th>\n",
       "      <th>min</th>\n",
       "      <th>max</th>\n",
       "      <th>mean</th>\n",
       "      <th>median</th>\n",
       "    </tr>\n",
       "    <tr>\n",
       "      <th>offerID</th>\n",
       "      <th></th>\n",
       "      <th></th>\n",
       "      <th></th>\n",
       "      <th></th>\n",
       "    </tr>\n",
       "  </thead>\n",
       "  <tbody>\n",
       "    <tr>\n",
       "      <th>0b1e1539f2cc45b7b9fa7c272da2e1d7</th>\n",
       "      <td>18</td>\n",
       "      <td>101</td>\n",
       "      <td>54.413744</td>\n",
       "      <td>55</td>\n",
       "    </tr>\n",
       "    <tr>\n",
       "      <th>2298d6c36e964ae4a3e7e9706d1fb8c2</th>\n",
       "      <td>18</td>\n",
       "      <td>101</td>\n",
       "      <td>54.264936</td>\n",
       "      <td>55</td>\n",
       "    </tr>\n",
       "    <tr>\n",
       "      <th>2906b810c7d4411798c6938adc9daaa5</th>\n",
       "      <td>18</td>\n",
       "      <td>101</td>\n",
       "      <td>54.122810</td>\n",
       "      <td>55</td>\n",
       "    </tr>\n",
       "    <tr>\n",
       "      <th>3f207df678b143eea3cee63160fa8bed</th>\n",
       "      <td>18</td>\n",
       "      <td>101</td>\n",
       "      <td>54.556481</td>\n",
       "      <td>55</td>\n",
       "    </tr>\n",
       "    <tr>\n",
       "      <th>4d5c57ea9a6940dd891ad53e9dbe8da0</th>\n",
       "      <td>18</td>\n",
       "      <td>100</td>\n",
       "      <td>54.198512</td>\n",
       "      <td>55</td>\n",
       "    </tr>\n",
       "    <tr>\n",
       "      <th>5a8bc65990b245e5a138643cd4eb9837</th>\n",
       "      <td>18</td>\n",
       "      <td>101</td>\n",
       "      <td>54.533805</td>\n",
       "      <td>55</td>\n",
       "    </tr>\n",
       "    <tr>\n",
       "      <th>9b98b8c7a33c4b65b9aebfe6a799e6d9</th>\n",
       "      <td>18</td>\n",
       "      <td>101</td>\n",
       "      <td>54.334536</td>\n",
       "      <td>55</td>\n",
       "    </tr>\n",
       "    <tr>\n",
       "      <th>ae264e3637204a6fb9bb56bc8210ddfd</th>\n",
       "      <td>18</td>\n",
       "      <td>100</td>\n",
       "      <td>54.239037</td>\n",
       "      <td>55</td>\n",
       "    </tr>\n",
       "    <tr>\n",
       "      <th>f19421c1d4aa40978ebb69ca19b0e20d</th>\n",
       "      <td>18</td>\n",
       "      <td>101</td>\n",
       "      <td>54.400367</td>\n",
       "      <td>55</td>\n",
       "    </tr>\n",
       "    <tr>\n",
       "      <th>fafdcd668e3743c1bb461111dcafc2a4</th>\n",
       "      <td>18</td>\n",
       "      <td>101</td>\n",
       "      <td>54.433802</td>\n",
       "      <td>56</td>\n",
       "    </tr>\n",
       "  </tbody>\n",
       "</table>\n",
       "</div>"
      ],
      "text/plain": [
       "                                 age                       \n",
       "                                 min  max       mean median\n",
       "offerID                                                    \n",
       "0b1e1539f2cc45b7b9fa7c272da2e1d7  18  101  54.413744     55\n",
       "2298d6c36e964ae4a3e7e9706d1fb8c2  18  101  54.264936     55\n",
       "2906b810c7d4411798c6938adc9daaa5  18  101  54.122810     55\n",
       "3f207df678b143eea3cee63160fa8bed  18  101  54.556481     55\n",
       "4d5c57ea9a6940dd891ad53e9dbe8da0  18  100  54.198512     55\n",
       "5a8bc65990b245e5a138643cd4eb9837  18  101  54.533805     55\n",
       "9b98b8c7a33c4b65b9aebfe6a799e6d9  18  101  54.334536     55\n",
       "ae264e3637204a6fb9bb56bc8210ddfd  18  100  54.239037     55\n",
       "f19421c1d4aa40978ebb69ca19b0e20d  18  101  54.400367     55\n",
       "fafdcd668e3743c1bb461111dcafc2a4  18  101  54.433802     56"
      ]
     },
     "execution_count": 19,
     "metadata": {},
     "output_type": "execute_result"
    }
   ],
   "source": [
    "transcript_profile_grp.groupby('offerID').agg({'age': ['min','max','mean', 'median']})"
   ]
  },
  {
   "cell_type": "code",
   "execution_count": 34,
   "metadata": {},
   "outputs": [
    {
     "data": {
      "text/html": [
       "<div>\n",
       "<style scoped>\n",
       "    .dataframe tbody tr th:only-of-type {\n",
       "        vertical-align: middle;\n",
       "    }\n",
       "\n",
       "    .dataframe tbody tr th {\n",
       "        vertical-align: top;\n",
       "    }\n",
       "\n",
       "    .dataframe thead tr th {\n",
       "        text-align: left;\n",
       "    }\n",
       "\n",
       "    .dataframe thead tr:last-of-type th {\n",
       "        text-align: right;\n",
       "    }\n",
       "</style>\n",
       "<table border=\"1\" class=\"dataframe\">\n",
       "  <thead>\n",
       "    <tr>\n",
       "      <th></th>\n",
       "      <th colspan=\"4\" halign=\"left\">became_member_on</th>\n",
       "    </tr>\n",
       "    <tr>\n",
       "      <th></th>\n",
       "      <th>min</th>\n",
       "      <th>max</th>\n",
       "      <th>mean</th>\n",
       "      <th>median</th>\n",
       "    </tr>\n",
       "    <tr>\n",
       "      <th>offerID</th>\n",
       "      <th></th>\n",
       "      <th></th>\n",
       "      <th></th>\n",
       "      <th></th>\n",
       "    </tr>\n",
       "  </thead>\n",
       "  <tbody>\n",
       "    <tr>\n",
       "      <th>0b1e1539f2cc45b7b9fa7c272da2e1d7</th>\n",
       "      <td>20130729</td>\n",
       "      <td>20180726</td>\n",
       "      <td>2.016684e+07</td>\n",
       "      <td>20170728</td>\n",
       "    </tr>\n",
       "    <tr>\n",
       "      <th>2298d6c36e964ae4a3e7e9706d1fb8c2</th>\n",
       "      <td>20130729</td>\n",
       "      <td>20180726</td>\n",
       "      <td>2.016716e+07</td>\n",
       "      <td>20170809</td>\n",
       "    </tr>\n",
       "    <tr>\n",
       "      <th>2906b810c7d4411798c6938adc9daaa5</th>\n",
       "      <td>20130730</td>\n",
       "      <td>20180726</td>\n",
       "      <td>2.016690e+07</td>\n",
       "      <td>20170804</td>\n",
       "    </tr>\n",
       "    <tr>\n",
       "      <th>3f207df678b143eea3cee63160fa8bed</th>\n",
       "      <td>20130730</td>\n",
       "      <td>20180726</td>\n",
       "      <td>2.016699e+07</td>\n",
       "      <td>20170806</td>\n",
       "    </tr>\n",
       "    <tr>\n",
       "      <th>4d5c57ea9a6940dd891ad53e9dbe8da0</th>\n",
       "      <td>20130731</td>\n",
       "      <td>20180726</td>\n",
       "      <td>2.016689e+07</td>\n",
       "      <td>20170801</td>\n",
       "    </tr>\n",
       "    <tr>\n",
       "      <th>5a8bc65990b245e5a138643cd4eb9837</th>\n",
       "      <td>20130730</td>\n",
       "      <td>20180726</td>\n",
       "      <td>2.016685e+07</td>\n",
       "      <td>20170730</td>\n",
       "    </tr>\n",
       "    <tr>\n",
       "      <th>9b98b8c7a33c4b65b9aebfe6a799e6d9</th>\n",
       "      <td>20130730</td>\n",
       "      <td>20180726</td>\n",
       "      <td>2.016684e+07</td>\n",
       "      <td>20170803</td>\n",
       "    </tr>\n",
       "    <tr>\n",
       "      <th>ae264e3637204a6fb9bb56bc8210ddfd</th>\n",
       "      <td>20130729</td>\n",
       "      <td>20180726</td>\n",
       "      <td>2.016683e+07</td>\n",
       "      <td>20170731</td>\n",
       "    </tr>\n",
       "    <tr>\n",
       "      <th>f19421c1d4aa40978ebb69ca19b0e20d</th>\n",
       "      <td>20130729</td>\n",
       "      <td>20180726</td>\n",
       "      <td>2.016704e+07</td>\n",
       "      <td>20170804</td>\n",
       "    </tr>\n",
       "    <tr>\n",
       "      <th>fafdcd668e3743c1bb461111dcafc2a4</th>\n",
       "      <td>20130729</td>\n",
       "      <td>20180726</td>\n",
       "      <td>2.016693e+07</td>\n",
       "      <td>20170807</td>\n",
       "    </tr>\n",
       "  </tbody>\n",
       "</table>\n",
       "</div>"
      ],
      "text/plain": [
       "                                 became_member_on                          \\\n",
       "                                              min       max          mean   \n",
       "offerID                                                                     \n",
       "0b1e1539f2cc45b7b9fa7c272da2e1d7         20130729  20180726  2.016684e+07   \n",
       "2298d6c36e964ae4a3e7e9706d1fb8c2         20130729  20180726  2.016716e+07   \n",
       "2906b810c7d4411798c6938adc9daaa5         20130730  20180726  2.016690e+07   \n",
       "3f207df678b143eea3cee63160fa8bed         20130730  20180726  2.016699e+07   \n",
       "4d5c57ea9a6940dd891ad53e9dbe8da0         20130731  20180726  2.016689e+07   \n",
       "5a8bc65990b245e5a138643cd4eb9837         20130730  20180726  2.016685e+07   \n",
       "9b98b8c7a33c4b65b9aebfe6a799e6d9         20130730  20180726  2.016684e+07   \n",
       "ae264e3637204a6fb9bb56bc8210ddfd         20130729  20180726  2.016683e+07   \n",
       "f19421c1d4aa40978ebb69ca19b0e20d         20130729  20180726  2.016704e+07   \n",
       "fafdcd668e3743c1bb461111dcafc2a4         20130729  20180726  2.016693e+07   \n",
       "\n",
       "                                            \n",
       "                                    median  \n",
       "offerID                                     \n",
       "0b1e1539f2cc45b7b9fa7c272da2e1d7  20170728  \n",
       "2298d6c36e964ae4a3e7e9706d1fb8c2  20170809  \n",
       "2906b810c7d4411798c6938adc9daaa5  20170804  \n",
       "3f207df678b143eea3cee63160fa8bed  20170806  \n",
       "4d5c57ea9a6940dd891ad53e9dbe8da0  20170801  \n",
       "5a8bc65990b245e5a138643cd4eb9837  20170730  \n",
       "9b98b8c7a33c4b65b9aebfe6a799e6d9  20170803  \n",
       "ae264e3637204a6fb9bb56bc8210ddfd  20170731  \n",
       "f19421c1d4aa40978ebb69ca19b0e20d  20170804  \n",
       "fafdcd668e3743c1bb461111dcafc2a4  20170807  "
      ]
     },
     "execution_count": 34,
     "metadata": {},
     "output_type": "execute_result"
    }
   ],
   "source": [
    "transcript_profile_grp.groupby('offerID').agg({'became_member_on': ['min','max','mean', 'median']})"
   ]
  },
  {
   "cell_type": "code",
   "execution_count": 35,
   "metadata": {},
   "outputs": [
    {
     "data": {
      "text/html": [
       "<div>\n",
       "<style scoped>\n",
       "    .dataframe tbody tr th:only-of-type {\n",
       "        vertical-align: middle;\n",
       "    }\n",
       "\n",
       "    .dataframe tbody tr th {\n",
       "        vertical-align: top;\n",
       "    }\n",
       "\n",
       "    .dataframe thead tr th {\n",
       "        text-align: left;\n",
       "    }\n",
       "\n",
       "    .dataframe thead tr:last-of-type th {\n",
       "        text-align: right;\n",
       "    }\n",
       "</style>\n",
       "<table border=\"1\" class=\"dataframe\">\n",
       "  <thead>\n",
       "    <tr>\n",
       "      <th></th>\n",
       "      <th colspan=\"4\" halign=\"left\">income</th>\n",
       "    </tr>\n",
       "    <tr>\n",
       "      <th></th>\n",
       "      <th>min</th>\n",
       "      <th>max</th>\n",
       "      <th>mean</th>\n",
       "      <th>median</th>\n",
       "    </tr>\n",
       "    <tr>\n",
       "      <th>offerID</th>\n",
       "      <th></th>\n",
       "      <th></th>\n",
       "      <th></th>\n",
       "      <th></th>\n",
       "    </tr>\n",
       "  </thead>\n",
       "  <tbody>\n",
       "    <tr>\n",
       "      <th>0b1e1539f2cc45b7b9fa7c272da2e1d7</th>\n",
       "      <td>30000.0</td>\n",
       "      <td>120000.0</td>\n",
       "      <td>65277.738010</td>\n",
       "      <td>64000.0</td>\n",
       "    </tr>\n",
       "    <tr>\n",
       "      <th>2298d6c36e964ae4a3e7e9706d1fb8c2</th>\n",
       "      <td>30000.0</td>\n",
       "      <td>120000.0</td>\n",
       "      <td>65447.975304</td>\n",
       "      <td>64000.0</td>\n",
       "    </tr>\n",
       "    <tr>\n",
       "      <th>2906b810c7d4411798c6938adc9daaa5</th>\n",
       "      <td>30000.0</td>\n",
       "      <td>120000.0</td>\n",
       "      <td>65476.459854</td>\n",
       "      <td>63000.0</td>\n",
       "    </tr>\n",
       "    <tr>\n",
       "      <th>3f207df678b143eea3cee63160fa8bed</th>\n",
       "      <td>30000.0</td>\n",
       "      <td>120000.0</td>\n",
       "      <td>65307.023896</td>\n",
       "      <td>64000.0</td>\n",
       "    </tr>\n",
       "    <tr>\n",
       "      <th>4d5c57ea9a6940dd891ad53e9dbe8da0</th>\n",
       "      <td>30000.0</td>\n",
       "      <td>120000.0</td>\n",
       "      <td>65270.731265</td>\n",
       "      <td>63000.0</td>\n",
       "    </tr>\n",
       "    <tr>\n",
       "      <th>5a8bc65990b245e5a138643cd4eb9837</th>\n",
       "      <td>30000.0</td>\n",
       "      <td>120000.0</td>\n",
       "      <td>65538.336052</td>\n",
       "      <td>63000.0</td>\n",
       "    </tr>\n",
       "    <tr>\n",
       "      <th>9b98b8c7a33c4b65b9aebfe6a799e6d9</th>\n",
       "      <td>30000.0</td>\n",
       "      <td>120000.0</td>\n",
       "      <td>65114.038253</td>\n",
       "      <td>63000.0</td>\n",
       "    </tr>\n",
       "    <tr>\n",
       "      <th>ae264e3637204a6fb9bb56bc8210ddfd</th>\n",
       "      <td>30000.0</td>\n",
       "      <td>120000.0</td>\n",
       "      <td>65587.347232</td>\n",
       "      <td>64000.0</td>\n",
       "    </tr>\n",
       "    <tr>\n",
       "      <th>f19421c1d4aa40978ebb69ca19b0e20d</th>\n",
       "      <td>30000.0</td>\n",
       "      <td>120000.0</td>\n",
       "      <td>65463.728191</td>\n",
       "      <td>63000.0</td>\n",
       "    </tr>\n",
       "    <tr>\n",
       "      <th>fafdcd668e3743c1bb461111dcafc2a4</th>\n",
       "      <td>30000.0</td>\n",
       "      <td>120000.0</td>\n",
       "      <td>65405.122655</td>\n",
       "      <td>64000.0</td>\n",
       "    </tr>\n",
       "  </tbody>\n",
       "</table>\n",
       "</div>"
      ],
      "text/plain": [
       "                                   income                                 \n",
       "                                      min       max          mean   median\n",
       "offerID                                                                   \n",
       "0b1e1539f2cc45b7b9fa7c272da2e1d7  30000.0  120000.0  65277.738010  64000.0\n",
       "2298d6c36e964ae4a3e7e9706d1fb8c2  30000.0  120000.0  65447.975304  64000.0\n",
       "2906b810c7d4411798c6938adc9daaa5  30000.0  120000.0  65476.459854  63000.0\n",
       "3f207df678b143eea3cee63160fa8bed  30000.0  120000.0  65307.023896  64000.0\n",
       "4d5c57ea9a6940dd891ad53e9dbe8da0  30000.0  120000.0  65270.731265  63000.0\n",
       "5a8bc65990b245e5a138643cd4eb9837  30000.0  120000.0  65538.336052  63000.0\n",
       "9b98b8c7a33c4b65b9aebfe6a799e6d9  30000.0  120000.0  65114.038253  63000.0\n",
       "ae264e3637204a6fb9bb56bc8210ddfd  30000.0  120000.0  65587.347232  64000.0\n",
       "f19421c1d4aa40978ebb69ca19b0e20d  30000.0  120000.0  65463.728191  63000.0\n",
       "fafdcd668e3743c1bb461111dcafc2a4  30000.0  120000.0  65405.122655  64000.0"
      ]
     },
     "execution_count": 35,
     "metadata": {},
     "output_type": "execute_result"
    }
   ],
   "source": [
    "transcript_profile_grp.groupby('offerID').agg({'income': ['min','max','mean', 'median']})"
   ]
  },
  {
   "cell_type": "code",
   "execution_count": 36,
   "metadata": {},
   "outputs": [
    {
     "data": {
      "text/html": [
       "<div>\n",
       "<style scoped>\n",
       "    .dataframe tbody tr th:only-of-type {\n",
       "        vertical-align: middle;\n",
       "    }\n",
       "\n",
       "    .dataframe tbody tr th {\n",
       "        vertical-align: top;\n",
       "    }\n",
       "\n",
       "    .dataframe thead tr th {\n",
       "        text-align: left;\n",
       "    }\n",
       "\n",
       "    .dataframe thead tr:last-of-type th {\n",
       "        text-align: right;\n",
       "    }\n",
       "</style>\n",
       "<table border=\"1\" class=\"dataframe\">\n",
       "  <thead>\n",
       "    <tr>\n",
       "      <th></th>\n",
       "      <th></th>\n",
       "      <th>offer received</th>\n",
       "    </tr>\n",
       "    <tr>\n",
       "      <th></th>\n",
       "      <th></th>\n",
       "      <th>sum</th>\n",
       "    </tr>\n",
       "    <tr>\n",
       "      <th>offerID</th>\n",
       "      <th>gender</th>\n",
       "      <th></th>\n",
       "    </tr>\n",
       "  </thead>\n",
       "  <tbody>\n",
       "    <tr>\n",
       "      <th rowspan=\"3\" valign=\"top\">0b1e1539f2cc45b7b9fa7c272da2e1d7</th>\n",
       "      <th>F</th>\n",
       "      <td>2331</td>\n",
       "    </tr>\n",
       "    <tr>\n",
       "      <th>M</th>\n",
       "      <td>3180</td>\n",
       "    </tr>\n",
       "    <tr>\n",
       "      <th>O</th>\n",
       "      <td>77</td>\n",
       "    </tr>\n",
       "    <tr>\n",
       "      <th rowspan=\"3\" valign=\"top\">2298d6c36e964ae4a3e7e9706d1fb8c2</th>\n",
       "      <th>F</th>\n",
       "      <td>2256</td>\n",
       "    </tr>\n",
       "    <tr>\n",
       "      <th>M</th>\n",
       "      <td>3170</td>\n",
       "    </tr>\n",
       "    <tr>\n",
       "      <th>O</th>\n",
       "      <td>81</td>\n",
       "    </tr>\n",
       "    <tr>\n",
       "      <th rowspan=\"3\" valign=\"top\">2906b810c7d4411798c6938adc9daaa5</th>\n",
       "      <th>F</th>\n",
       "      <td>2265</td>\n",
       "    </tr>\n",
       "    <tr>\n",
       "      <th>M</th>\n",
       "      <td>3142</td>\n",
       "    </tr>\n",
       "    <tr>\n",
       "      <th>O</th>\n",
       "      <td>73</td>\n",
       "    </tr>\n",
       "    <tr>\n",
       "      <th rowspan=\"3\" valign=\"top\">3f207df678b143eea3cee63160fa8bed</th>\n",
       "      <th>F</th>\n",
       "      <td>2288</td>\n",
       "    </tr>\n",
       "    <tr>\n",
       "      <th>M</th>\n",
       "      <td>3155</td>\n",
       "    </tr>\n",
       "    <tr>\n",
       "      <th>O</th>\n",
       "      <td>81</td>\n",
       "    </tr>\n",
       "    <tr>\n",
       "      <th rowspan=\"3\" valign=\"top\">4d5c57ea9a6940dd891ad53e9dbe8da0</th>\n",
       "      <th>F</th>\n",
       "      <td>2267</td>\n",
       "    </tr>\n",
       "    <tr>\n",
       "      <th>M</th>\n",
       "      <td>3182</td>\n",
       "    </tr>\n",
       "    <tr>\n",
       "      <th>O</th>\n",
       "      <td>62</td>\n",
       "    </tr>\n",
       "    <tr>\n",
       "      <th rowspan=\"3\" valign=\"top\">5a8bc65990b245e5a138643cd4eb9837</th>\n",
       "      <th>F</th>\n",
       "      <td>2313</td>\n",
       "    </tr>\n",
       "    <tr>\n",
       "      <th>M</th>\n",
       "      <td>3122</td>\n",
       "    </tr>\n",
       "    <tr>\n",
       "      <th>O</th>\n",
       "      <td>82</td>\n",
       "    </tr>\n",
       "    <tr>\n",
       "      <th rowspan=\"3\" valign=\"top\">9b98b8c7a33c4b65b9aebfe6a799e6d9</th>\n",
       "      <th>F</th>\n",
       "      <td>2295</td>\n",
       "    </tr>\n",
       "    <tr>\n",
       "      <th>M</th>\n",
       "      <td>3161</td>\n",
       "    </tr>\n",
       "    <tr>\n",
       "      <th>O</th>\n",
       "      <td>86</td>\n",
       "    </tr>\n",
       "    <tr>\n",
       "      <th rowspan=\"3\" valign=\"top\">ae264e3637204a6fb9bb56bc8210ddfd</th>\n",
       "      <th>F</th>\n",
       "      <td>2288</td>\n",
       "    </tr>\n",
       "    <tr>\n",
       "      <th>M</th>\n",
       "      <td>3198</td>\n",
       "    </tr>\n",
       "    <tr>\n",
       "      <th>O</th>\n",
       "      <td>78</td>\n",
       "    </tr>\n",
       "    <tr>\n",
       "      <th rowspan=\"3\" valign=\"top\">f19421c1d4aa40978ebb69ca19b0e20d</th>\n",
       "      <th>F</th>\n",
       "      <td>2247</td>\n",
       "    </tr>\n",
       "    <tr>\n",
       "      <th>M</th>\n",
       "      <td>3121</td>\n",
       "    </tr>\n",
       "    <tr>\n",
       "      <th>O</th>\n",
       "      <td>77</td>\n",
       "    </tr>\n",
       "    <tr>\n",
       "      <th rowspan=\"3\" valign=\"top\">fafdcd668e3743c1bb461111dcafc2a4</th>\n",
       "      <th>F</th>\n",
       "      <td>2258</td>\n",
       "    </tr>\n",
       "    <tr>\n",
       "      <th>M</th>\n",
       "      <td>3214</td>\n",
       "    </tr>\n",
       "    <tr>\n",
       "      <th>O</th>\n",
       "      <td>72</td>\n",
       "    </tr>\n",
       "  </tbody>\n",
       "</table>\n",
       "</div>"
      ],
      "text/plain": [
       "                                        offer received\n",
       "                                                   sum\n",
       "offerID                          gender               \n",
       "0b1e1539f2cc45b7b9fa7c272da2e1d7 F                2331\n",
       "                                 M                3180\n",
       "                                 O                  77\n",
       "2298d6c36e964ae4a3e7e9706d1fb8c2 F                2256\n",
       "                                 M                3170\n",
       "                                 O                  81\n",
       "2906b810c7d4411798c6938adc9daaa5 F                2265\n",
       "                                 M                3142\n",
       "                                 O                  73\n",
       "3f207df678b143eea3cee63160fa8bed F                2288\n",
       "                                 M                3155\n",
       "                                 O                  81\n",
       "4d5c57ea9a6940dd891ad53e9dbe8da0 F                2267\n",
       "                                 M                3182\n",
       "                                 O                  62\n",
       "5a8bc65990b245e5a138643cd4eb9837 F                2313\n",
       "                                 M                3122\n",
       "                                 O                  82\n",
       "9b98b8c7a33c4b65b9aebfe6a799e6d9 F                2295\n",
       "                                 M                3161\n",
       "                                 O                  86\n",
       "ae264e3637204a6fb9bb56bc8210ddfd F                2288\n",
       "                                 M                3198\n",
       "                                 O                  78\n",
       "f19421c1d4aa40978ebb69ca19b0e20d F                2247\n",
       "                                 M                3121\n",
       "                                 O                  77\n",
       "fafdcd668e3743c1bb461111dcafc2a4 F                2258\n",
       "                                 M                3214\n",
       "                                 O                  72"
      ]
     },
     "execution_count": 36,
     "metadata": {},
     "output_type": "execute_result"
    }
   ],
   "source": [
    "transcript_profile_grp.groupby(['offerID','gender']).agg({'offer received': ['sum']})"
   ]
  },
  {
   "cell_type": "markdown",
   "metadata": {},
   "source": [
    "They are pretty similar, which I guess you'd expect if their testing approach is set up correctly :-)"
   ]
  },
  {
   "cell_type": "markdown",
   "metadata": {},
   "source": [
    "Grouping the data has got rid of the NaN records."
   ]
  },
  {
   "cell_type": "code",
   "execution_count": 37,
   "metadata": {},
   "outputs": [
    {
     "data": {
      "text/plain": [
       "person              0\n",
       "offerID             0\n",
       "age                 0\n",
       "became_member_on    0\n",
       "gender              0\n",
       "income              0\n",
       "offer received      0\n",
       "offer viewed        0\n",
       "offer completed     0\n",
       "dtype: int64"
      ]
     },
     "execution_count": 37,
     "metadata": {},
     "output_type": "execute_result"
    }
   ],
   "source": [
    "transcript_profile_grp.isna().sum()"
   ]
  },
  {
   "cell_type": "markdown",
   "metadata": {},
   "source": [
    "There were originally c.2k where gender and income weren't populated:"
   ]
  },
  {
   "cell_type": "code",
   "execution_count": 38,
   "metadata": {},
   "outputs": [
    {
     "data": {
      "text/plain": [
       "age                    0\n",
       "became_member_on       0\n",
       "gender              2175\n",
       "id                     0\n",
       "income              2175\n",
       "dtype: int64"
      ]
     },
     "execution_count": 38,
     "metadata": {},
     "output_type": "execute_result"
    }
   ],
   "source": [
    "profile.isna().sum()"
   ]
  },
  {
   "cell_type": "markdown",
   "metadata": {},
   "source": [
    "Let's look at the volume by offer to make sure none are disproportionately impacted:"
   ]
  },
  {
   "cell_type": "code",
   "execution_count": 39,
   "metadata": {},
   "outputs": [
    {
     "data": {
      "text/html": [
       "<div>\n",
       "<style scoped>\n",
       "    .dataframe tbody tr th:only-of-type {\n",
       "        vertical-align: middle;\n",
       "    }\n",
       "\n",
       "    .dataframe tbody tr th {\n",
       "        vertical-align: top;\n",
       "    }\n",
       "\n",
       "    .dataframe thead th {\n",
       "        text-align: right;\n",
       "    }\n",
       "</style>\n",
       "<table border=\"1\" class=\"dataframe\">\n",
       "  <thead>\n",
       "    <tr style=\"text-align: right;\">\n",
       "      <th></th>\n",
       "      <th>offer received</th>\n",
       "      <th>offer completed</th>\n",
       "    </tr>\n",
       "    <tr>\n",
       "      <th>offerID</th>\n",
       "      <th></th>\n",
       "      <th></th>\n",
       "    </tr>\n",
       "  </thead>\n",
       "  <tbody>\n",
       "    <tr>\n",
       "      <th>0b1e1539f2cc45b7b9fa7c272da2e1d7</th>\n",
       "      <td>5588</td>\n",
       "      <td>2944</td>\n",
       "    </tr>\n",
       "    <tr>\n",
       "      <th>2298d6c36e964ae4a3e7e9706d1fb8c2</th>\n",
       "      <td>5507</td>\n",
       "      <td>4167</td>\n",
       "    </tr>\n",
       "    <tr>\n",
       "      <th>2906b810c7d4411798c6938adc9daaa5</th>\n",
       "      <td>5480</td>\n",
       "      <td>3383</td>\n",
       "    </tr>\n",
       "    <tr>\n",
       "      <th>3f207df678b143eea3cee63160fa8bed</th>\n",
       "      <td>5524</td>\n",
       "      <td>0</td>\n",
       "    </tr>\n",
       "    <tr>\n",
       "      <th>4d5c57ea9a6940dd891ad53e9dbe8da0</th>\n",
       "      <td>5511</td>\n",
       "      <td>2865</td>\n",
       "    </tr>\n",
       "    <tr>\n",
       "      <th>5a8bc65990b245e5a138643cd4eb9837</th>\n",
       "      <td>5517</td>\n",
       "      <td>0</td>\n",
       "    </tr>\n",
       "    <tr>\n",
       "      <th>9b98b8c7a33c4b65b9aebfe6a799e6d9</th>\n",
       "      <td>5542</td>\n",
       "      <td>3627</td>\n",
       "    </tr>\n",
       "    <tr>\n",
       "      <th>ae264e3637204a6fb9bb56bc8210ddfd</th>\n",
       "      <td>5564</td>\n",
       "      <td>3146</td>\n",
       "    </tr>\n",
       "    <tr>\n",
       "      <th>f19421c1d4aa40978ebb69ca19b0e20d</th>\n",
       "      <td>5445</td>\n",
       "      <td>3562</td>\n",
       "    </tr>\n",
       "    <tr>\n",
       "      <th>fafdcd668e3743c1bb461111dcafc2a4</th>\n",
       "      <td>5544</td>\n",
       "      <td>4248</td>\n",
       "    </tr>\n",
       "  </tbody>\n",
       "</table>\n",
       "</div>"
      ],
      "text/plain": [
       "                                  offer received  offer completed\n",
       "offerID                                                          \n",
       "0b1e1539f2cc45b7b9fa7c272da2e1d7            5588             2944\n",
       "2298d6c36e964ae4a3e7e9706d1fb8c2            5507             4167\n",
       "2906b810c7d4411798c6938adc9daaa5            5480             3383\n",
       "3f207df678b143eea3cee63160fa8bed            5524                0\n",
       "4d5c57ea9a6940dd891ad53e9dbe8da0            5511             2865\n",
       "5a8bc65990b245e5a138643cd4eb9837            5517                0\n",
       "9b98b8c7a33c4b65b9aebfe6a799e6d9            5542             3627\n",
       "ae264e3637204a6fb9bb56bc8210ddfd            5564             3146\n",
       "f19421c1d4aa40978ebb69ca19b0e20d            5445             3562\n",
       "fafdcd668e3743c1bb461111dcafc2a4            5544             4248"
      ]
     },
     "execution_count": 39,
     "metadata": {},
     "output_type": "execute_result"
    }
   ],
   "source": [
    "transcript_profile_grp.groupby('offerID')['offer received','offer completed'].sum()"
   ]
  },
  {
   "cell_type": "markdown",
   "metadata": {},
   "source": [
    "We have lost less than 15% of rows and pretty evenly shared across the offers."
   ]
  },
  {
   "cell_type": "markdown",
   "metadata": {},
   "source": [
    "### Even more Data Engineering\n",
    "\n",
    "Now I am preparing my data for the model build:\n",
    "- merging on campaign information\n",
    "- dropping the rows which relate to informational offers as there's no completions for those\n",
    "- separating out the channels\n",
    "- using get dummies to convert text columns into binary flags\n",
    "- renaming columns to make them nicer/easier to use"
   ]
  },
  {
   "cell_type": "code",
   "execution_count": 20,
   "metadata": {},
   "outputs": [],
   "source": [
    "df_features = transcript_profile_grp.merge(portfolio, left_on='offerID', right_on='id',how='inner').drop('id',axis=1) # merge campaign features with customer profile and response metrics\n",
    "df_features = df_features[df_features['offer_type']!='informational'].reset_index()# drop informational campaigns as they have no completions\n",
    "df_features['channels_str'] = list(map(str, df_features['channels']))# turn channels into string and make flag for each\n",
    "df_features['web'] = df_features.channels_str.str.contains('web')\n",
    "df_features['email'] = df_features.channels_str.str.contains('email')\n",
    "df_features['mobile'] = df_features.channels_str.str.contains('mobile')\n",
    "df_features['social'] = df_features.channels_str.str.contains('social')\n",
    "df_features = pd.get_dummies(df_features, columns=['gender','channels_str','offer_type']).drop(['index','channels'],axis=1)\n",
    "\n",
    "# rename columns to make them nicer/easier to use\n",
    "df_features.columns = ['person', 'offerID', 'age', 'became_member_on', 'income',\n",
    "       'offer received', 'offer viewed', 'offer completed', 'difficulty',\n",
    "       'duration', 'reward', 'web', 'email', 'mobile', 'social', 'gender_F',\n",
    "       'gender_M', 'gender_O', 'channels_str_emailmobilesocial',\n",
    "       'channels_str_webemailmobilesocial',\n",
    "       'channels_str_webemailmobile',\n",
    "       'channels_str_webemail', 'offer_type_bogo',\n",
    "       'offer_type_discount']"
   ]
  },
  {
   "cell_type": "code",
   "execution_count": 21,
   "metadata": {},
   "outputs": [
    {
     "data": {
      "text/plain": [
       "(44181, 24)"
      ]
     },
     "execution_count": 21,
     "metadata": {},
     "output_type": "execute_result"
    }
   ],
   "source": [
    "df_features.shape"
   ]
  },
  {
   "cell_type": "markdown",
   "metadata": {},
   "source": [
    "### Modelling\n",
    "\n",
    "As the classes aren't too imbalanced, I will make a basic Logistic Regression model (default parameters) as the baseline. Then I'll try a basic Decision Tree (default parameters) to compare.\n",
    "\n",
    "For the best performer out of these, I will build a pipeline and tune some parameters to see if I can improve performance.\n",
    "\n",
    "Finally, I will do a business evaluation to translate model performance into real life considerations of whether to use it."
   ]
  },
  {
   "cell_type": "markdown",
   "metadata": {},
   "source": [
    "### Logistic Regression base line"
   ]
  },
  {
   "cell_type": "code",
   "execution_count": 55,
   "metadata": {},
   "outputs": [
    {
     "name": "stdout",
     "output_type": "stream",
     "text": [
      "Check train/test shapes: \n",
      "\n",
      "(29601, 19)\n",
      "(29601,)\n",
      "(14580, 19)\n",
      "(14580,)\n",
      "\n",
      "The training score is 0.65021451978\n",
      "The test score is 0.645884773663\n",
      "\n",
      "The training confusion matrix is: \n",
      "[[ 2790  8101]\n",
      " [ 2253 16457]]\n",
      "\n",
      "The test confusion matrix is: \n",
      "[[1350 3998]\n",
      " [1165 8067]]\n",
      "\n",
      "Feature importance ranking: \n",
      "                              feature          coef      abs_coef\n",
      "2                              income  2.544764e-05  2.544764e-05\n",
      "1                    became_member_on -5.352506e-08  5.352506e-08\n",
      "0                                 age  1.509784e-08  1.509784e-08\n",
      "3                          difficulty -4.711694e-09  4.711694e-09\n",
      "5                              reward -4.541810e-09  4.541810e-09\n",
      "4                            duration  9.005749e-10  9.005749e-10\n",
      "11                           gender_M -8.090032e-10  8.090032e-10\n",
      "10                           gender_F  7.826577e-10  7.826577e-10\n",
      "14  channels_str_webemailmobilesocial  5.141056e-10  5.141056e-10\n",
      "18                offer_type_discount  4.185009e-10  4.185009e-10\n",
      "17                    offer_type_bogo -4.170673e-10  4.170673e-10\n",
      "9                              social  3.023983e-10  3.023983e-10\n",
      "8                              mobile  2.957506e-10  2.957506e-10\n",
      "16              channels_str_webemail -2.943170e-10  2.943170e-10\n",
      "6                                 web  2.131409e-10  2.131409e-10\n",
      "13     channels_str_emailmobilesocial -2.117073e-10  2.117073e-10\n",
      "12                           gender_O  2.777909e-11  2.777909e-11\n",
      "15        channels_str_webemailmobile -6.647700e-12  6.647700e-12\n",
      "7                               email  1.433597e-12  1.433597e-12\n"
     ]
    }
   ],
   "source": [
    "X = df_features[['age','became_member_on', 'income', 'difficulty',\n",
    "       'duration', 'reward', 'web', 'email', 'mobile', 'social', 'gender_F',\n",
    "       'gender_M', 'gender_O', 'channels_str_emailmobilesocial',\n",
    "       'channels_str_webemailmobilesocial',\n",
    "       'channels_str_webemailmobile',\n",
    "       'channels_str_webemail', 'offer_type_bogo',\n",
    "       'offer_type_discount']] # these are the features\n",
    "\n",
    "y = df_features['offer completed'] # this is the target\n",
    "\n",
    "X_train, X_test, y_train, y_test = train_test_split(X, y, test_size=0.33, random_state=42) # split train/test\n",
    "\n",
    "print(\"Check train/test shapes: \\n\\r\")\n",
    "print(X_train.shape)\n",
    "print(y_train.shape)\n",
    "print(X_test.shape)\n",
    "print(y_test.shape)\n",
    "print()\n",
    "# instantiate, fit and predict on train\n",
    "model = LogisticRegression()\n",
    "model.fit(X_train, y_train)\n",
    "model.predict(X_train)\n",
    "print(\"The training score is \"+str(model.score(X_train, y_train)))\n",
    "# predict on test\n",
    "model.predict(X_test)\n",
    "print(\"The test score is \"+ str(model.score(X_test, y_test)))\n",
    "print()\n",
    "print(\"The training confusion matrix is: \\n\\r\"+str(confusion_matrix(y_train, model.predict(X_train))))\n",
    "print()\n",
    "print(\"The test confusion matrix is: \\n\\r\"+str(confusion_matrix(y_test, model.predict(X_test))))\n",
    "print()\n",
    "\n",
    "# get feature importances\n",
    "coefs = np.array(model.coef_.reshape(-1))\n",
    "feat_names=np.array(X_train.columns)\n",
    "zipped = list(zip(feat_names,coefs))\n",
    "feat_imp = pd.DataFrame(zipped, columns=['feature','coef'])\n",
    "feat_imp['abs_coef']=np.abs(feat_imp['coef'])\n",
    "print(\"Feature importance ranking: \\n\\r\"+str(feat_imp.sort_values(by='abs_coef',ascending=False)))"
   ]
  },
  {
   "cell_type": "markdown",
   "metadata": {},
   "source": [
    "The features at the top of the ranking are a mixture of customer profile and offer features, backing up my theory that the interplay between these is important when predicting completion."
   ]
  },
  {
   "cell_type": "markdown",
   "metadata": {},
   "source": [
    "### Decision Tree for comparison"
   ]
  },
  {
   "cell_type": "code",
   "execution_count": 56,
   "metadata": {},
   "outputs": [
    {
     "name": "stdout",
     "output_type": "stream",
     "text": [
      "The training score is 0.999898652073\n",
      "The test score is 0.661865569273\n",
      "\n",
      "The training confusion matrix is: \n",
      "[[10891     0]\n",
      " [    3 18707]]\n",
      "\n",
      "The test confusion matrix is: \n",
      "[[2926 2422]\n",
      " [2508 6724]]\n",
      "\n",
      "Feature importance ranking :\n",
      "                              feature  importance\n",
      "1                    became_member_on    0.391009\n",
      "2                              income    0.223866\n",
      "0                                 age    0.222124\n",
      "5                              reward    0.034657\n",
      "3                          difficulty    0.023114\n",
      "11                           gender_M    0.023088\n",
      "14  channels_str_webemailmobilesocial    0.015956\n",
      "4                            duration    0.015376\n",
      "9                              social    0.009031\n",
      "10                           gender_F    0.008240\n",
      "15        channels_str_webemailmobile    0.007883\n",
      "13     channels_str_emailmobilesocial    0.005412\n",
      "17                    offer_type_bogo    0.004988\n",
      "6                                 web    0.004803\n",
      "18                offer_type_discount    0.004075\n",
      "16              channels_str_webemail    0.002413\n",
      "12                           gender_O    0.002056\n",
      "8                              mobile    0.001909\n",
      "7                               email    0.000000\n"
     ]
    }
   ],
   "source": [
    "# same train and test data as above\n",
    "\n",
    "#instantiate model\n",
    "tree = DecisionTreeClassifier()\n",
    "\n",
    "# fit, predict and score on train\n",
    "tree.fit(X_train,y_train)\n",
    "tree.predict(X_train)\n",
    "print(\"The training score is \"+str(tree.score(X_train,y_train)))\n",
    "# predict and score on test\n",
    "tree.predict(X_test)\n",
    "print(\"The test score is \"+str(tree.score(X_test,y_test)))\n",
    "print()\n",
    "print(\"The training confusion matrix is: \\n\\r\"+str(confusion_matrix(y_train, tree.predict(X_train))))\n",
    "print()\n",
    "print(\"The test confusion matrix is: \\n\\r\"+str(confusion_matrix(y_test, tree.predict(X_test))))\n",
    "print()\n",
    "# get feature importances\n",
    "coefs = tree.feature_importances_\n",
    "feat_names = np.array(X_train.columns)\n",
    "zipped = list(zip(feat_names,coefs))\n",
    "feat_imp = pd.DataFrame(zipped, columns=['feature','importance'])\n",
    "print(\"Feature importance ranking :\\n\\r\"+str(feat_imp.sort_values(by='importance',ascending=False)))"
   ]
  },
  {
   "cell_type": "markdown",
   "metadata": {},
   "source": [
    "The Decision Tree is really over-fitted to the training data. On the test it performs similarly to the Logistic Regression. I will proceed with the Logistic Regression and use a pipeline and parameter tuning to try and improve it."
   ]
  },
  {
   "cell_type": "markdown",
   "metadata": {},
   "source": [
    "### Pipeline and GridSearch parameter tuning"
   ]
  },
  {
   "cell_type": "code",
   "execution_count": 57,
   "metadata": {},
   "outputs": [
    {
     "name": "stdout",
     "output_type": "stream",
     "text": [
      "The training score of the best model is 0.705786966657\n",
      "The test score of the best model is 0.703086419753\n",
      "\n",
      "The confusion matrix for the training is: \n",
      "[[ 5033  5858]\n",
      " [ 2851 15859]]\n",
      "\n",
      "The confusion matrix for the test is: \n",
      "[[2369 2979]\n",
      " [1350 7882]]\n"
     ]
    }
   ],
   "source": [
    "# instantiate pipeline and grid search\n",
    "pipeline = Pipeline([('scaler',StandardScaler()),('clf',LogisticRegression())])\n",
    "params = {'clf__C': [0.001,0.01,0.1,1,10,100],\n",
    "                'clf__solver': ['newton-cg', 'lbfgs', 'liblinear', 'sag', 'saga']}\n",
    "cv = GridSearchCV(pipeline, param_grid = params)\n",
    "\n",
    "# fit, predict and score on training\n",
    "cv.fit(X_train,y_train)\n",
    "print(\"The training score of the best model is \"+str(cv.score(X_train,y_train)))\n",
    "\n",
    "# predict and score on test\n",
    "print(\"The test score of the best model is \"+str(cv.score(X_test,y_test)))\n",
    "print()\n",
    "print(\"The confusion matrix for the training is: \\n\\r\"+str(confusion_matrix(y_train, cv.predict(X_train))))\n",
    "print()\n",
    "print(\"The confusion matrix for the test is: \\n\\r\"+str(confusion_matrix(y_test, cv.predict(X_test))))"
   ]
  },
  {
   "cell_type": "markdown",
   "metadata": {},
   "source": [
    "The scores have improved and the train/test are still performing to a similar level."
   ]
  },
  {
   "cell_type": "markdown",
   "metadata": {},
   "source": [
    "As we have built a model for all offers at once, I think we should check that it performs to a similar level for all of them."
   ]
  },
  {
   "cell_type": "code",
   "execution_count": 58,
   "metadata": {},
   "outputs": [
    {
     "data": {
      "text/html": [
       "<div>\n",
       "<style scoped>\n",
       "    .dataframe tbody tr th:only-of-type {\n",
       "        vertical-align: middle;\n",
       "    }\n",
       "\n",
       "    .dataframe tbody tr th {\n",
       "        vertical-align: top;\n",
       "    }\n",
       "\n",
       "    .dataframe thead tr th {\n",
       "        text-align: left;\n",
       "    }\n",
       "</style>\n",
       "<table border=\"1\" class=\"dataframe\">\n",
       "  <thead>\n",
       "    <tr>\n",
       "      <th></th>\n",
       "      <th>offerID</th>\n",
       "      <th colspan=\"2\" halign=\"left\">accurate</th>\n",
       "      <th>%accuracy</th>\n",
       "    </tr>\n",
       "    <tr>\n",
       "      <th></th>\n",
       "      <th></th>\n",
       "      <th>count</th>\n",
       "      <th>sum</th>\n",
       "      <th></th>\n",
       "    </tr>\n",
       "  </thead>\n",
       "  <tbody>\n",
       "    <tr>\n",
       "      <th>0</th>\n",
       "      <td>0b1e1539f2cc45b7b9fa7c272da2e1d7</td>\n",
       "      <td>5588</td>\n",
       "      <td>3737.0</td>\n",
       "      <td>66.875447</td>\n",
       "    </tr>\n",
       "    <tr>\n",
       "      <th>1</th>\n",
       "      <td>2298d6c36e964ae4a3e7e9706d1fb8c2</td>\n",
       "      <td>5507</td>\n",
       "      <td>4202.0</td>\n",
       "      <td>76.302887</td>\n",
       "    </tr>\n",
       "    <tr>\n",
       "      <th>2</th>\n",
       "      <td>2906b810c7d4411798c6938adc9daaa5</td>\n",
       "      <td>5480</td>\n",
       "      <td>3809.0</td>\n",
       "      <td>69.507299</td>\n",
       "    </tr>\n",
       "    <tr>\n",
       "      <th>3</th>\n",
       "      <td>4d5c57ea9a6940dd891ad53e9dbe8da0</td>\n",
       "      <td>5511</td>\n",
       "      <td>3668.0</td>\n",
       "      <td>66.557794</td>\n",
       "    </tr>\n",
       "    <tr>\n",
       "      <th>4</th>\n",
       "      <td>9b98b8c7a33c4b65b9aebfe6a799e6d9</td>\n",
       "      <td>5542</td>\n",
       "      <td>3849.0</td>\n",
       "      <td>69.451462</td>\n",
       "    </tr>\n",
       "    <tr>\n",
       "      <th>5</th>\n",
       "      <td>ae264e3637204a6fb9bb56bc8210ddfd</td>\n",
       "      <td>5564</td>\n",
       "      <td>3798.0</td>\n",
       "      <td>68.260244</td>\n",
       "    </tr>\n",
       "    <tr>\n",
       "      <th>6</th>\n",
       "      <td>f19421c1d4aa40978ebb69ca19b0e20d</td>\n",
       "      <td>5445</td>\n",
       "      <td>3770.0</td>\n",
       "      <td>69.237833</td>\n",
       "    </tr>\n",
       "    <tr>\n",
       "      <th>7</th>\n",
       "      <td>fafdcd668e3743c1bb461111dcafc2a4</td>\n",
       "      <td>5544</td>\n",
       "      <td>4310.0</td>\n",
       "      <td>77.741703</td>\n",
       "    </tr>\n",
       "  </tbody>\n",
       "</table>\n",
       "</div>"
      ],
      "text/plain": [
       "                            offerID accurate          %accuracy\n",
       "                                       count     sum           \n",
       "0  0b1e1539f2cc45b7b9fa7c272da2e1d7     5588  3737.0  66.875447\n",
       "1  2298d6c36e964ae4a3e7e9706d1fb8c2     5507  4202.0  76.302887\n",
       "2  2906b810c7d4411798c6938adc9daaa5     5480  3809.0  69.507299\n",
       "3  4d5c57ea9a6940dd891ad53e9dbe8da0     5511  3668.0  66.557794\n",
       "4  9b98b8c7a33c4b65b9aebfe6a799e6d9     5542  3849.0  69.451462\n",
       "5  ae264e3637204a6fb9bb56bc8210ddfd     5564  3798.0  68.260244\n",
       "6  f19421c1d4aa40978ebb69ca19b0e20d     5445  3770.0  69.237833\n",
       "7  fafdcd668e3743c1bb461111dcafc2a4     5544  4310.0  77.741703"
      ]
     },
     "execution_count": 58,
     "metadata": {},
     "output_type": "execute_result"
    }
   ],
   "source": [
    "pd.options.mode.chained_assignment = None # running below gives a warning but I can turn it off as the code is doing what I want it to\n",
    "# turn X_train, y_train, train preds and train probs into a dataframe\n",
    "pred_train = cv.predict(X_train)\n",
    "proba_train = cv.predict_proba(X_train)[:,1] # just take probability of 1, probability of 0 is 1-probability of 1\n",
    "pred_test = cv.predict(X_test)\n",
    "proba_test = cv.predict_proba(X_test)[:,1] # just take probability of 1, probability of 0 is 1-probability of 1\n",
    "\n",
    "X_train['pred'] = pd.Series(pred_train, index=X_train.index)\n",
    "X_train['proba'] = pd.Series(proba_train, index=X_train.index)\n",
    "X_train['actual'] = pd.Series(y_train, index=X_train.index)\n",
    "\n",
    "X_test['pred'] = pd.Series(pred_test, index=X_test.index)\n",
    "X_test['proba'] = pd.Series(proba_test, index=X_test.index)\n",
    "X_test['actual'] = pd.Series(y_test, index=X_test.index)\n",
    "\n",
    "# merge into one results dataframe\n",
    "df_results = X_train.append(X_test, ignore_index=False)\n",
    "df_results = df_results.sort_index()\n",
    "df_results['offerID'] = df_features['offerID']\n",
    "df_results['accurate'] = df_results['pred']== df_results['actual']\n",
    "\n",
    "# group by offer to get performance by offer\n",
    "df_offer_results = df_results.groupby('offerID').agg({'accurate': ['count', 'sum']}).reset_index()\n",
    "df_offer_results['%accuracy'] = (df_offer_results.iloc[:,2]/df_offer_results.iloc[:,1])*100\n",
    "\n",
    "df_offer_results"
   ]
  },
  {
   "cell_type": "markdown",
   "metadata": {},
   "source": [
    "Fairly similar - a future project could investigate building separate models per offer, if Starbucks stick to similar offer templates."
   ]
  },
  {
   "cell_type": "markdown",
   "metadata": {},
   "source": [
    "### Real Life Model Application\n",
    "\n",
    "Ultimately an accuracy score doesn't necessarily mean that much to the people in the marketing department. To get their buy-in for a model, I would need to think about how the model would be used in real life and prove it drives a benefit versus not using it.\n",
    "\n",
    "This is where thinking about the confusion matrix and how that translates to outcomes is useful.\n",
    "\n",
    "- If we contact all the people the model predicts will respond:\n",
    "    * True Positives are good because the offer increases their spend\n",
    "    * but False Positives will cost us money to contact and not increase their spend, and they might even get annoyed about contact for irrelevant offers (so they might even decrease their spend or take it to a competitor)\n",
    "    \n",
    "    \n",
    "- If we don't contact the people the model predicts won't respond:\n",
    "    * True Negatives are good because we save money by not marketing to them when they won't uplift their spend\n",
    "    * but False Negatives are a missed opportunity, we will miss out on their incremental spend because we didn't tell them about the offer\n",
    "    \n",
    "To build our business case for using the model, I need the cost to market to each person and the expected incremental spend.\n",
    "\n",
    "For example, let's imagine it costs £3.50 per person for marketing and each offer is expected to increase customer spend by £7.50.\n",
    "\n",
    "(This is simplistic for sake of example, as in reality the channel mix for each offer would affect the costs and the offer types would likely drive different amounts of incremental spend)"
   ]
  },
  {
   "cell_type": "code",
   "execution_count": 2,
   "metadata": {},
   "outputs": [
    {
     "name": "stdout",
     "output_type": "stream",
     "text": [
      "Without the model our campaign would generate £54931.5\n",
      "With the model our campaign would generate £64034.5\n",
      "The benefit of using the model is £9103.0\n"
     ]
    }
   ],
   "source": [
    "total_TP = 15859 + 7882\n",
    "total_TN = 5033 + 2369\n",
    "total_FP = 5858 + 2979\n",
    "total_FN = 2851 + 1350\n",
    "\n",
    "c = 3.5\n",
    "s = 7.5\n",
    "\n",
    "total_costs = (total_TP*c) + (total_FP*c)\n",
    "total_income = total_TP*s\n",
    "cost_savings = (total_TN*c) + (total_FN*c)\n",
    "missed_income = total_FN*s\n",
    "\n",
    "without_model = (total_income+missed_income)-(total_costs+cost_savings)\n",
    "with_model = total_income - total_costs\n",
    "\n",
    "print(\"Without the model our campaign would generate £\"+str(without_model))\n",
    "print(\"With the model our campaign would generate £\"+str(with_model))\n",
    "print(\"The benefit of using the model is £\"+str(with_model-without_model))"
   ]
  },
  {
   "cell_type": "markdown",
   "metadata": {},
   "source": [
    "So in this example it would make sense to try using the model."
   ]
  },
  {
   "cell_type": "markdown",
   "metadata": {},
   "source": [
    "### Taking it further\n",
    "\n",
    "Another option would be to use the probabilities, in conjunction with campaign costs.\n",
    "\n",
    "For example, for an expensive campaign you might only contact people with >0.7 probability of responding but for a cheap campaign, you could contact everyone with >0.3 probability of responding and just avoid those really unlikely to respond.\n",
    "You could also build a model to predict the amount of incremental spend per individual and use that in conjunction with both marketing cost and likelihood to respond to decide whether to include them in each campaign."
   ]
  },
  {
   "cell_type": "markdown",
   "metadata": {},
   "source": [
    "### Final comments"
   ]
  },
  {
   "cell_type": "markdown",
   "metadata": {},
   "source": [
    "Analysis and modelling are interesting on their own, but what would make this truly valuable would be a close working relationship with the marketing department to understand their goals and constraints and use Data Science to inform their strategy."
   ]
  },
  {
   "cell_type": "code",
   "execution_count": null,
   "metadata": {},
   "outputs": [],
   "source": []
  }
 ],
 "metadata": {
  "kernelspec": {
   "display_name": "Python 3",
   "language": "python",
   "name": "python3"
  },
  "language_info": {
   "codemirror_mode": {
    "name": "ipython",
    "version": 3
   },
   "file_extension": ".py",
   "mimetype": "text/x-python",
   "name": "python",
   "nbconvert_exporter": "python",
   "pygments_lexer": "ipython3",
   "version": "3.6.3"
  }
 },
 "nbformat": 4,
 "nbformat_minor": 2
}
